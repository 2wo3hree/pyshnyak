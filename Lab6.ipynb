{
  "cells": [
    {
      "cell_type": "markdown",
      "metadata": {
        "id": "vyJvXL3Ow6pQ"
      },
      "source": [
        "**1. Сообщения составляются из алфавита a, b, c, d. Вероятность появления букв в текстах равна соответственно: pa = 0,2; pb = 0,3; pc = 0,4; pd = 0,1.\n",
        "Найти избыточность сообщений, составленных из данного алфавита**"
      ]
    },
    {
      "cell_type": "markdown",
      "metadata": {
        "id": "2CXpOhuY0J-w"
      },
      "source": [
        "$$R = \\log_2(n) - H(X)$$\n",
        "\n",
        "где:\n",
        "- $R$ - избыточность\n",
        "- $\\log_2(n)$ - максимальная энтропия (максимальное количество информации на символ), где $n$ - количество символов в алфавите\n",
        "- $H(X)$ - средняя энтропия алфавита, определяемая как \\( H(X) = - $\\sum p_i \\log_2(p_i)$\n",
        "\n",
        "Для данного алфавита n=4 (a, b, c, d). По условию вероятности равны:\n",
        "$p_a = 0,2, p_b = 0,3, p_c = 0,4, p_d = 0,1$"
      ]
    },
    {
      "cell_type": "code",
      "execution_count": null,
      "metadata": {
        "colab": {
          "base_uri": "https://localhost:8080/"
        },
        "id": "fMbw-dggzG10",
        "outputId": "10d21afe-3f35-4cd0-b66f-6d96b5b40c39"
      },
      "outputs": [
        {
          "name": "stdout",
          "output_type": "stream",
          "text": [
            "Избыточность сообщений: 0.15\n"
          ]
        }
      ],
      "source": [
        "import math\n",
        "\n",
        "def calcRedundancy(pa, pb, pc, pd):\n",
        "    # Cредняя энтропия\n",
        "    H = - (pa * math.log2(pa) + pb * math.log2(pb) + pc * math.log2(pc) + pd * math.log2(pd))\n",
        "\n",
        "    # Максимальная энтропия\n",
        "    logN = math.log2(4)\n",
        "\n",
        "    return round(logN - H, 2)\n",
        "\n",
        "redundancy = calcRedundancy(0.2, 0.3, 0.4, 0.1)\n",
        "print(f\"Избыточность сообщений: {redundancy}\")\n"
      ]
    },
    {
      "cell_type": "markdown",
      "metadata": {
        "id": "BuqyoaeGw-Up"
      },
      "source": [
        "**2. Чему равна минимальная длина кодовых слов для передачи 16,\n",
        "128, 57, 10, 432 сообщений в восьмиричном и в двоичном кодах.**"
      ]
    },
    {
      "cell_type": "markdown",
      "metadata": {
        "id": "H74YHhY11kaC"
      },
      "source": [
        "Для определения минимальной длины кодовых слов для передачи сообщений, нам нужно рассмотреть количество возможных сообщений и кодировочную систему. Минимальная длина кодового слова $L$ определяется по формуле:\n",
        "\n",
        "$$L = \\lceil \\log_b(n) \\rceil$$\n",
        "\n",
        "где:\n",
        "- $n$ — количество сообщений.\n",
        "- $b$ — основание системы счисления (2 для двоичной, 8 для восьмеричной).\n",
        "- $\\lceil x \\rceil$ — округление до ближайшего целого числа вверх."
      ]
    },
    {
      "cell_type": "code",
      "execution_count": null,
      "metadata": {
        "colab": {
          "base_uri": "https://localhost:8080/"
        },
        "id": "ep181eY2zHM7",
        "outputId": "1773ad96-904c-4d8d-b023-a3f7e222707b"
      },
      "outputs": [
        {
          "name": "stdout",
          "output_type": "stream",
          "text": [
            "Для двоичной системы: [4, 7, 6, 4, 9]\n",
            "Для восьмеричной системы: [2, 3, 2, 2, 3]\n"
          ]
        }
      ],
      "source": [
        "def minWordlen(n, base):\n",
        "    return math.ceil(math.log(n, base))\n",
        "\n",
        "messages = [16, 128, 57, 10, 432]\n",
        "\n",
        "binLen = [minWordlen(msg, 2) for msg in messages]\n",
        "\n",
        "octalLen = [minWordlen(msg, 8) for msg in messages]\n",
        "\n",
        "print(f\"Для двоичной системы: {binLen}\")\n",
        "print(f\"Для восьмеричной системы: {octalLen}\")"
      ]
    },
    {
      "cell_type": "markdown",
      "metadata": {
        "id": "hfoQCZvnxCkH"
      },
      "source": [
        "**3. Пусть алфавит источника содержит шесть элементов {А, Б, В, Г,\n",
        "Д, Е}, появляющихся с вероятностями Р(А)=0,15, Р(В)=0,1, Р(Б)=0,25, Р(Г)=0,13,\n",
        "Р(Д)=0,25, Р(Е)=0,12. Найти энтропию такого источника, среднее число символов\n",
        "на одну букву при кодировании методом Ш-Ф**"
      ]
    },
    {
      "cell_type": "markdown",
      "metadata": {
        "id": "vslJw-0Z2h0C"
      },
      "source": [
        "Энтропия $H$ дискретного источника информации определяется как:\n",
        "\n",
        "$$H(X) = - \\sum p_i \\log_2(p_i)$$\n",
        "\n",
        "где $p_i$ — вероятность появления i-го символа алфавита.\n",
        "\n",
        "\n",
        "\n",
        "Теперь, метод Шеннона-Фано (Ш-Ф) стремится минимизировать среднее количество символов на одну букву. Однако метод Шеннона-Фано не всегда гарантирует оптимальное кодирование, поскольку средняя длина кодового слова $L$ будет удовлетворять условию:\n",
        "\n",
        "$$H(X) \\leq L < H(X) + 1$$\n",
        "\n",
        "Таким образом, среднее количество символов на одну букву при кодировании методом Шеннона-Фано будет лежать между $H(X)$ и $H(X) + 1$.\n"
      ]
    },
    {
      "cell_type": "code",
      "execution_count": null,
      "metadata": {
        "colab": {
          "base_uri": "https://localhost:8080/"
        },
        "id": "35yc_OwAzHhe",
        "outputId": "da9215cc-01b0-4748-b4e3-9d78bc99777c"
      },
      "outputs": [
        {
          "name": "stdout",
          "output_type": "stream",
          "text": [
            "Энтропия источника: 2.49\n",
            "Среднее количество символов на одну букву при кодировании методом Ш-Ф: от 2.49 до 3.49\n"
          ]
        }
      ],
      "source": [
        "probabilities = {\n",
        "    \"А\": 0.15,\n",
        "    \"Б\": 0.25,\n",
        "    \"В\": 0.1,\n",
        "    \"Г\": 0.13,\n",
        "    \"Д\": 0.25,\n",
        "    \"Е\": 0.12\n",
        "}\n",
        "\n",
        "entropy = -sum(p * math.log2(p) for p in probabilities.values())\n",
        "\n",
        "shannonFanoMin = entropy\n",
        "shannonFanoMax = entropy + 1\n",
        "\n",
        "print(f\"Энтропия источника: {entropy:.2f}\")\n",
        "print(f\"Среднее количество символов на одну букву при кодировании методом Ш-Ф: от {shannonFanoMin:.2f} до {shannonFanoMax:.2f}\")\n"
      ]
    },
    {
      "cell_type": "markdown",
      "metadata": {
        "id": "BlBT1x6kxHyI"
      },
      "source": [
        "**4. Закодировать методом Шеннона-Фано блоки «мы все учились понемногу чему-нибудь и как-нибудь». Каково среднее число символов на знак?**\n",
        "\\begin{array}{|c|c|c|c|c|c|c|c|c|c|}\n",
        "\\hline\n",
        "\\text{блок} & \\text{мы} & \\text{все} & \\text{учились} & \\text{понемногу} & \\text{чему} & \\text{нибудь} & \\text{и} & \\text{как} & \\text{-} \\\\\n",
        "\\hline\n",
        "\\text{вероятность} & 0.37 & 0.13 & 0.125 & 0.08 & 0.06 & 0.052 & 0.023 & 0.11 & 0.05 \\\\\n",
        "\\hline\n",
        "\\end{array}\n"
      ]
    },
    {
      "cell_type": "code",
      "execution_count": null,
      "metadata": {
        "colab": {
          "base_uri": "https://localhost:8080/"
        },
        "id": "V3JDE06p3eid",
        "outputId": "fe7fc015-ee91-451a-fd53-40faa6b7fe80"
      },
      "outputs": [
        {
          "name": "stdout",
          "output_type": "stream",
          "text": [
            "Коды для каждого блока:\n",
            "мы: 00\n",
            "все: 01\n",
            "учились: 1000\n",
            "как: 1001\n",
            "понемногу: 101\n",
            "чему: 1100\n",
            "нибудь: 1101\n",
            "-: 1110\n",
            "и: 1111\n",
            "\n",
            "Среднее количество символов на знак: 2.9200\n"
          ]
        }
      ],
      "source": [
        "def shannonFanoCoding(probabilities: dict) -> dict:\n",
        "\n",
        "    def splitProbabilities(probList):\n",
        "        total = sum(prob for _, prob in probList)\n",
        "        half = total / 2\n",
        "        currentSum = 0\n",
        "        index = 0\n",
        "\n",
        "        for i, (_, prob) in enumerate(probList):\n",
        "            currentSum += prob\n",
        "            if currentSum >= half:\n",
        "                index = i\n",
        "                break\n",
        "\n",
        "        return probList[:index + 1], probList[index + 1:]\n",
        "\n",
        "    def recursiveCoding(probList, code=\"\"):\n",
        "        if len(probList) == 1:\n",
        "            return {probList[0][0]: code}\n",
        "\n",
        "        group1, group2 = splitProbabilities(probList)\n",
        "        codes = {}\n",
        "\n",
        "        codes.update(recursiveCoding(group1, code + \"0\"))\n",
        "        codes.update(recursiveCoding(group2, code + \"1\"))\n",
        "\n",
        "        return codes\n",
        "\n",
        "    sortedProbabilities = sorted(probabilities.items(), key=lambda x: x[1], reverse=True)\n",
        "    return recursiveCoding(sortedProbabilities)\n",
        "\n",
        "probabilities = {\n",
        "    \"мы\": 0.37,\n",
        "    \"все\": 0.13,\n",
        "    \"учились\": 0.125,\n",
        "    \"понемногу\": 0.08,\n",
        "    \"чему\": 0.06,\n",
        "    \"нибудь\": 0.052,\n",
        "    \"и\": 0.023,\n",
        "    \"как\": 0.11,\n",
        "    \"-\": 0.05\n",
        "}\n",
        "\n",
        "codes = shannonFanoCoding(probabilities)\n",
        "averageLen = sum(len(code) * probabilities[block] for block, code in codes.items())\n",
        "\n",
        "print(\"Коды для каждого блока:\")\n",
        "for block, code in codes.items():\n",
        "    print(f\"{block}: {code}\")\n",
        "\n",
        "print(f\"\\nСреднее количество символов на знак: {averageLen:.4f}\")\n"
      ]
    },
    {
      "cell_type": "markdown",
      "metadata": {
        "id": "N3K6MrQEyw7M"
      },
      "source": [
        "**5. Сообщение состоит из последовательности букв А, B и С, вероятности которых не зависят от предыдущего сочетания букв и равны Р(А)=0,7,\n",
        "Р(В)=0,2, Р(С)=0,1. Провести кодирование по алгоритму Шеннона-Фано отдель-\n",
        "45\n",
        "ных букв и двухбуквенных сочетаний. Сравнить коды по их эффективности и избыточности**"
      ]
    },
    {
      "cell_type": "code",
      "execution_count": null,
      "metadata": {
        "colab": {
          "base_uri": "https://localhost:8080/"
        },
        "id": "NwjldT09zIUp",
        "outputId": "4d4ee2e3-86cd-46e2-f2d9-fcd3ef50ffd6"
      },
      "outputs": [
        {
          "name": "stdout",
          "output_type": "stream",
          "text": [
            "Коды для отдельных букв: {'A': '0', 'B': '1', 'C': '1'}\n",
            "Коды для двухбуквенных сочетаний: {'AA': '0000', 'AB': '0001', 'BA': '0010', 'AC': '0011', 'CA': '0100', 'BB': '0101', 'BC': '0110', 'CB': '0111', 'CC': '1000'}\n",
            "\n",
            "\n",
            "Для одиночных символов:\n",
            "Эффективность: 0.8644688731151322\n",
            "Избыточность: 0.1355311268848678\n",
            "\n",
            "Для двухбуквенных сочетаний:\n",
            "Эффективность: 1.7289377462302644\n",
            "Избыточность: -0.7289377462302644\n"
          ]
        }
      ],
      "source": [
        "def shannonFanoCoding(probabilities):\n",
        "    sortedProbs = sorted(probabilities.items(), key=lambda x: x[1], reverse=True)\n",
        "    codes = {}\n",
        "\n",
        "    total = sum(prob for _, prob in sortedProbs)\n",
        "    mid = total / 2\n",
        "    currSum = 0\n",
        "    i = 0\n",
        "\n",
        "    while currSum < mid and i < len(sortedProbs):\n",
        "        currSum += sortedProbs[i][1]\n",
        "        i += 1\n",
        "\n",
        "    for j in range(i):\n",
        "        codes[sortedProbs[j][0]] = '0'\n",
        "\n",
        "    for j in range(i, len(sortedProbs)):\n",
        "        codes[sortedProbs[j][0]] = '1'\n",
        "\n",
        "    return codes\n",
        "\n",
        "singleProbs = {'A': 0.7, 'B': 0.2, 'C': 0.1}\n",
        "codesSingle = shannonFanoCoding(singleProbs)\n",
        "print(f\"Коды для отдельных букв: codesSingle\")\n",
        "\n",
        "\n",
        "def shannon_fano_coding_extended(probabilities):\n",
        "    sortedProbs = sorted(probabilities.items(), key=lambda x: x[1], reverse=True)\n",
        "    codes = {}\n",
        "    n = len(sortedProbs)\n",
        "\n",
        "    for idx, (sym, _) in enumerate(sortedProbs):\n",
        "        code = bin(idx)[2:]\n",
        "        code = '0' * (len(bin(n-1)[2:]) - len(code)) + code\n",
        "        codes[sym] = code\n",
        "\n",
        "    return codes\n",
        "\n",
        "doubleProbs = {a+b: singleProbs[a] * singleProbs[b] for a in singleProbs for b in singleProbs}\n",
        "codesDouble = shannon_fano_coding_extended(doubleProbs)\n",
        "print(\"Коды для двухбуквенных сочетаний:\", codesDouble)\n",
        "print()\n",
        "print()\n",
        "\n",
        "\n",
        "def entropy(probabilities):\n",
        "    \"\"\"Вычисляет энтропию источника.\"\"\"\n",
        "    return -sum(p * math.log2(p) for p in probabilities.values())\n",
        "\n",
        "def averageCodeLen(codes, probabilities):\n",
        "    \"\"\"Вычисляет среднюю длину кода.\"\"\"\n",
        "    return sum(len(codes[symbol]) * probabilities[symbol] for symbol in codes)\n",
        "\n",
        "def efficiency(codes, probabilities):\n",
        "    \"\"\"Вычисляет эффективность кодирования.\"\"\"\n",
        "    H = entropy(probabilities)\n",
        "    avg_length = averageCodeLen(codes, probabilities)\n",
        "    return avg_length / H\n",
        "\n",
        "def redundancy(codes, probabilities):\n",
        "    \"\"\"Вычисляет избыточность кодирования.\"\"\"\n",
        "    return 1 - efficiency(codes, probabilities)\n",
        "\n",
        "\n",
        "\n",
        "print(\"Для одиночных символов:\")\n",
        "print(\"Эффективность:\", efficiency(codesSingle, singleProbs))\n",
        "print(\"Избыточность:\", redundancy(codesSingle, singleProbs))\n",
        "\n",
        "print(\"\\nДля двухбуквенных сочетаний:\")\n",
        "print(\"Эффективность:\", efficiency(codesDouble, doubleProbs))\n",
        "print(\"Избыточность:\", redundancy(codesDouble, doubleProbs))\n"
      ]
    },
    {
      "cell_type": "markdown",
      "metadata": {
        "id": "lfWnNHFpyxoG"
      },
      "source": [
        "**6. Закодировать сообщение методом Шеннона-Фано «Теория информацииКодированияМодуляции».**"
      ]
    },
    {
      "cell_type": "code",
      "execution_count": null,
      "metadata": {
        "colab": {
          "base_uri": "https://localhost:8080/"
        },
        "id": "O1M8sTKczJP6",
        "outputId": "c4a0c311-960c-4e45-8266-fb650c62dc3a"
      },
      "outputs": [
        {
          "name": "stdout",
          "output_type": "stream",
          "text": [
            "Коды символов: {'и': '0000', 'о': '0010', 'р': '0100', 'я': '0110', 'н': '100000', 'а': '100010', 'ц': '10010', 'д': '10100', 'Т': '10110', 'е': '1100000', ' ': '1100010', 'ф': '110010', 'м': '110100', 'К': '110110', 'в': '111000', 'М': '111010', 'у': '111100', 'л': '111110'}\n",
            "Закодированное сообщение: 1011011000000010010000000110110001000001000001100100010010011010010001010010000000001101100010101000000010000101110001000101000000000011011101000101010011110011111001101001000000000\n"
          ]
        }
      ],
      "source": [
        "def shannonFanoAlgorithm(symbols, probabilities):\n",
        "    if len(symbols) == 1:\n",
        "        return {symbols[0]: '0'}\n",
        "\n",
        "    total = sum(probabilities)\n",
        "    half = total / 2\n",
        "\n",
        "    currSum = 0\n",
        "    index = 0\n",
        "\n",
        "    while index < len(probabilities) and currSum < half:\n",
        "        currSum += probabilities[index]\n",
        "        index += 1\n",
        "\n",
        "    leftSymbols = symbols[:index]\n",
        "    rightSymbols = symbols[index:]\n",
        "\n",
        "    leftProbs = probabilities[:index]\n",
        "    rightProbs = probabilities[index:]\n",
        "\n",
        "    leftCodes = shannonFanoAlgorithm(leftSymbols, leftProbs)\n",
        "    rightCodes = shannonFanoAlgorithm(rightSymbols, rightProbs)\n",
        "\n",
        "    for symbol in leftSymbols:\n",
        "        leftCodes[symbol] = '0' + leftCodes[symbol]\n",
        "\n",
        "    for symbol in rightSymbols:\n",
        "        rightCodes[symbol] = '1' + rightCodes[symbol]\n",
        "\n",
        "    leftCodes.update(rightCodes)\n",
        "    return leftCodes\n",
        "\n",
        "def shannonFanoCoding(message):\n",
        "    # 1. Определение частоты каждого символа\n",
        "    frequencies = {}\n",
        "    for char in message:\n",
        "        frequencies[char] = frequencies.get(char, 0) + 1\n",
        "\n",
        "    # Нормализация частот для получения вероятностей\n",
        "    total = len(message)\n",
        "    probabilities = {char: freq/total for char, freq in frequencies.items()}\n",
        "\n",
        "    # 2. Сортировка символов по их вероятностям в убывающем порядке\n",
        "    sortedProbs = sorted(probabilities.items(), key=lambda x: x[1], reverse=True)\n",
        "\n",
        "    symbols = [item[0] for item in sortedProbs]\n",
        "    probs = [item[1] for item in sortedProbs]\n",
        "\n",
        "    codes = shannonFanoAlgorithm(symbols, probs)\n",
        "\n",
        "    return codes\n",
        "\n",
        "message = \"Теория информацииКодированияМодуляции\"\n",
        "codes = shannonFanoCoding(message)\n",
        "encodedMessage = ''.join([codes[char] for char in message])\n",
        "\n",
        "def splitList(probabilities):\n",
        "    # Разделяет список вероятностей на две части с приближенно равной суммой\n",
        "    total = sum(probabilities)\n",
        "    leftSum = 0\n",
        "    splitIndex = 0\n",
        "\n",
        "    for i, prob in enumerate(probabilities):\n",
        "        if leftSum + prob <= total / 2:\n",
        "            leftSum += prob\n",
        "            splitIndex = i\n",
        "        else:\n",
        "            break\n",
        "\n",
        "    return splitIndex\n",
        "\n",
        "def shannonFanoCoding(symbols, probabilities):\n",
        "    # Рекурсивная функция для кодирования по методу Шеннона-Фано.\n",
        "    if len(symbols) == 1:\n",
        "        return {symbols[0]: ''}\n",
        "\n",
        "    splitIndex = splitList(probabilities)\n",
        "\n",
        "    leftSymbols = symbols[:splitIndex+1]\n",
        "    rightSymbols = symbols[splitIndex+1:]\n",
        "    leftProbs = probabilities[:splitIndex+1]\n",
        "    rightProbs = probabilities[splitIndex+1:]\n",
        "\n",
        "    leftCodes = shannonFanoCoding(leftSymbols, leftProbs)\n",
        "    rightCodes = shannonFanoCoding(rightSymbols, rightProbs)\n",
        "\n",
        "    for symbol in leftSymbols:\n",
        "        leftCodes[symbol] = '0' + leftCodes[symbol]\n",
        "        \n",
        "    for symbol in rightSymbols:\n",
        "        rightCodes[symbol] = '1' + rightCodes[symbol]\n",
        "\n",
        "    leftCodes.update(rightCodes)\n",
        "    return leftCodes\n",
        "\n",
        "def shannonFanoDecoding(sequence, codes):\n",
        "    # Декодирование последовательности по методу Шеннона-Фано.\n",
        "    decodedSequence = ''\n",
        "    currentCode = ''\n",
        "\n",
        "    for bit in sequence:\n",
        "        currentCode += bit\n",
        "        for symbol, code in codes.items():\n",
        "            if currentCode == code:\n",
        "                decodedSequence += symbol\n",
        "                currentCode = ''\n",
        "                break\n",
        "\n",
        "    return decodedSequence\n",
        "\n",
        "symbols = ['A', 'B', 'C', 'D', 'E', 'F', 'G']\n",
        "probabilities = [0.1, 0.2, 0.05, 0.3, 0.05, 0.15, 0.15]\n",
        "\n",
        "sortedIndices = sorted(range(len(probabilities)), key=lambda k: probabilities[k], reverse=True)\n",
        "sortedSymbols = [symbols[i] for i in sortedIndices]\n",
        "sortedProbabilities = [probabilities[i] for i in sortedIndices]\n",
        "\n",
        "codes = shannonFanoCoding(sortedSymbols, sortedProbabilities)\n",
        "print(\"Коды Шеннона-Фано:\", codes)\n",
        "\n",
        "sequence = \"10011101001000111101110101111000\"\n",
        "decoded_sequence = shannonFanoDecoding(sequence, codes)\n",
        "print(\"Декодированная последовательность:\", decoded_sequence)\n",
        "\n",
        "print(\"Коды символов:\", codes)\n",
        "print(\"Закодированное сообщение:\", encodedMessage)\n"
      ]
    },
    {
      "cell_type": "markdown",
      "metadata": {
        "id": "dola4bREy2ZO"
      },
      "source": [
        "**7. Построить код Шеннона-Фано для системы из семи букв: A, B, C,\n",
        "D, E, F, G, вероятности появления которых соответственно 0,1; 0,2; 0,05; 0,3;\n",
        "0,05; 0,15; 0,15. Определить среднее количество разрядов на одну букву. Декодировать этим кодом последовательность:\n",
        "10011101001000111101110101111000.**"
      ]
    },
    {
      "cell_type": "code",
      "execution_count": null,
      "metadata": {
        "colab": {
          "base_uri": "https://localhost:8080/",
          "height": 70
        },
        "id": "YSa8xexjzI3I",
        "outputId": "aa31988e-fab7-4d21-b10d-d9a77125932f"
      },
      "outputs": [
        {
          "name": "stdout",
          "output_type": "stream",
          "text": [
            "{'D': '00', 'B': '01', 'F': '100', 'G': '101', 'A': '110', 'C': '1110', 'E': '1111'}\n",
            "Среднее количество разрядов на одну букву 2.6\n"
          ]
        },
        {
          "data": {
            "application/vnd.google.colaboratory.intrinsic+json": {
              "type": "string"
            },
            "text/plain": [
              "'FCFFBCCGCD'"
            ]
          },
          "execution_count": 3,
          "metadata": {},
          "output_type": "execute_result"
        }
      ],
      "source": [
        "def splitProbabilities(probs):\n",
        "    # Function to split the probabilities into two parts with nearly equal sums.\n",
        "    total = sum(probs)\n",
        "    halfTotal = total / 2\n",
        "    currentSum = 0\n",
        "    splitIndex = -1\n",
        "\n",
        "    for i, prob in enumerate(probs):\n",
        "        currentSum += prob\n",
        "        if currentSum >= halfTotal:\n",
        "            splitIndex = i\n",
        "            break\n",
        "\n",
        "    if splitIndex == len(probs) - 1:\n",
        "        splitIndex -= 1\n",
        "\n",
        "    return probs[:splitIndex + 1], probs[splitIndex + 1:]\n",
        "\n",
        "def shannonFanoEncoding(chars, probs):\n",
        "    # Function to generate Shannon-Fano encoding for the given characters and probabilities.\n",
        "    if len(chars) == 1:\n",
        "        return {chars[0]: ''}\n",
        "\n",
        "\n",
        "    firstPartProbs, secondPartProbs = splitProbabilities(probs)\n",
        "\n",
        "    splitIndex = len(firstPartProbs)\n",
        "    firstPartChars, secondPartChars = chars[:splitIndex], chars[splitIndex:]\n",
        "\n",
        "    firstPartEncoding = shannonFanoEncoding(firstPartChars, firstPartProbs)\n",
        "    secondPartEncoding = shannonFanoEncoding(secondPartChars, secondPartProbs)\n",
        "\n",
        "    for char in firstPartEncoding:\n",
        "        firstPartEncoding[char] = '0' + firstPartEncoding[char]\n",
        "    for char in secondPartEncoding:\n",
        "        secondPartEncoding[char] = '1' + secondPartEncoding[char]\n",
        "\n",
        "    return {**firstPartEncoding, **secondPartEncoding}\n",
        "\n",
        "def shannonFanoDecode(encodedString, codes):\n",
        "    \"\"\"Function to decode a string using Shannon-Fano codes.\"\"\"\n",
        "    decodedString = \"\"\n",
        "    \n",
        "    while encodedString:\n",
        "        for char, code in codes.items():\n",
        "            if encodedString.startswith(code):\n",
        "                decodedString += char\n",
        "                encodedString = encodedString[len(code):]\n",
        "                break\n",
        "            \n",
        "    return decodedString\n",
        "\n",
        "characters = ['A', 'B', 'C', 'D', 'E', 'F', 'G']\n",
        "probabilities = [0.1, 0.2, 0.05, 0.3, 0.05, 0.15, 0.15]\n",
        "\n",
        "sortedIndices = sorted(range(len(probabilities)), key=lambda k: probabilities[k], reverse=True)\n",
        "sortedCharacters = [characters[i] for i in sortedIndices]\n",
        "sortedProbabilities = [probabilities[i] for i in sortedIndices]\n",
        "\n",
        "shannonFanoCodes = shannonFanoEncoding(sortedCharacters, sortedProbabilities)\n",
        "\n",
        "\n",
        "averageLen = round(sum(sortedProbabilities[i] * len(shannonFanoCodes[sortedCharacters[i]]) for i in range(len(sortedCharacters))), 2)\n",
        "\n",
        "sequence = \"10011101001000111101110101111000\"\n",
        "decodedSequence = shannonFanoDecode(sequence, shannonFanoCodes)\n",
        "\n",
        "print(shannonFanoCodes)\n",
        "print(f\"Среднее количество разрядов на одну букву {averageLen}\")\n",
        "decodedSequence\n"
      ]
    },
    {
      "cell_type": "markdown",
      "metadata": {
        "id": "TdHe9LxLHzin"
      },
      "source": [
        "**Контрольные вопросы**\n",
        "1. Под кодированием сообщения понимают процесс преобразования информации из одной формы в другую, чтобы она могла быть передана или сохранена более эффективно. Примеры простейших кодовых сообщений включают шифрование буквами, цифрами или символами (например, A=1, B=2, C=3), а также использование морзянки для передачи текста через сигналы длины и промежутков.\n",
        "\n",
        "2. Равномерные коды - это коды, в которых все символы имеют одинаковую длину кодовой комбинации. Например, кодирование букв английского алфавита в бинарные символы, где каждая буква кодируется одинаковым количеством битов (например, ASCII-кодировка).\n",
        "\n",
        "3. Метод Шеннона-Фано - это метод кодирования, в котором символы сортируются по вероятности и затем делятся на две группы с приблизительно равной вероятностью. Затем каждая группа разделяется на подгруппы с более равными вероятностями, и этот процесс повторяется до получения кодов для каждого символа. Например, при кодировании символов \"A\", \"B\", \"C\" и \"D\" с вероятностями 0.4, 0.3, 0.2 и 0.1 соответственно, мы можем получить коды A=0, B=10, C=110 и D=111.\n",
        "\n",
        "4. Процесс декодирования сообщения - это обратная операция, при которой кодовая комбинация преобразуется обратно в исходное сообщение. Например, если у нас есть кодовая комбинация 1011010, и мы знаем, что это кодирование по методу Шеннона-Фано, то мы можем декодировать это в исходное сообщение \"BAC\".\n",
        "\n",
        "5. Избыточность кода означает, что для кодирования символа используется больше битов, чем минимально необходимо. Виды избыточности включают систематическую (где код включает исходное значение и дополнительные биты для обнаружения и исправления ошибок) и несистематическую (где код не содержит исходное значение). Избыточность помогает обнаруживать и исправлять ошибки при передаче данных.\n",
        "\n",
        "6. Для вычисления длины кодовой комбинации можно использовать формулу:\n",
        "   Длина = -log2(Вероятность)\n",
        "   Например, если символ \"A\" имеет вероятность 0.4, то его длина будет -log2(0.4) ≈ 1.32 бита.\n",
        "\n",
        "7. Сжатие информации при применении эффективного кодирования обеспечивается за счет того, что символы с более высокой вероятностью имеют более короткие кодовые комбинации, а символы с более низкой вероятностью имеют более длинные коды. Это позволяет передавать информацию более компактно.\n",
        "\n",
        "8. Минимальная длина кодовой комбинации при применении эффективного кодирования определяется вероятностями символов. Символы с более высокой вероятностью имеют более короткие коды, а символы с более низкой вероятностью - более длинные.\n",
        "\n",
        "9. Оптимальный код - это кодирование, при котором средняя длина кодовой комбинации минимальна и равна энтропии источника информации. Оптимальность кода определяется энтропией источника. Примером оптимального кода может служить код Хаффмана.\n",
        "\n",
        "10. Избыточность кода полезна, когда необходимо обеспечить надежность передачи данных и возможность обнаружения и исправления ошибок. Например, в компьютерных сетях и при передаче данных через некачественные каналы связи используются избыточные коды для защиты информации от искажений и потерь данных."
      ]
    }
  ],
  "metadata": {
    "colab": {
      "provenance": []
    },
    "kernelspec": {
      "display_name": "Python 3",
      "name": "python3"
    },
    "language_info": {
      "name": "python"
    }
  },
  "nbformat": 4,
  "nbformat_minor": 0
}
